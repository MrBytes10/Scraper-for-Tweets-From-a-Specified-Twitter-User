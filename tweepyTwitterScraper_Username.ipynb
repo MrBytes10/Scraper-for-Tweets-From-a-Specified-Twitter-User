{
 "cells": [
  {
   "cell_type": "markdown",
   "metadata": {},
   "source": [
    "# Web Scraping with Python – Scrape Data from Twitter using Tweepy"
   ]
  },
  {
   "cell_type": "code",
   "execution_count": 10,
   "metadata": {},
   "outputs": [
    {
     "data": {
      "text/plain": [
       "\"\\n- If you are a data enthusiast, you'll likely agree that one of the richest sources of real-world data is social media. Sites like Twitter are full of data.\\n- You can use the data you can get from social media in a number of ways, like sentiment analysis (analyzing people's thoughts) on a specific issue or field of interest.\\n\\n- There are several ways you can scrape (or gather) data from Twitter. And in this project, we will look at using Tweepy to scrape Twitter.\\n\\n- We will scrape public conversations from people on a specific trending topic, as well as tweets from a particular user.\\n\\nNow without further ado, let's get started.\\n\\nTweepy:\\nIntroduction to Our Scraping Tool\\nTweepy is a Python library for integrating with the Twitter API. Because Tweepy is connected with the Twitter API, you can perform complex queries in addition to scraping tweets. It enables you to take advantage of all of the Twitter API's capabilities.\\n\\nBut there are some drawbacks - like the fact that its standard API only allows you to collect tweets for up to a week (that is, Tweepy does not allow recovery of tweets beyond a week window, so historical data retrieval is not permitted).\\n\\nAlso, there are limits to how many tweets you can retrieve from a user's account. \\n\""
      ]
     },
     "execution_count": 10,
     "metadata": {},
     "output_type": "execute_result"
    }
   ],
   "source": [
    "\"\"\"\n",
    "- If you are a data enthusiast, you'll likely agree that one of the richest sources of real-world data is social media. Sites like Twitter are full of data.\n",
    "- You can use the data you can get from social media in a number of ways, like sentiment analysis (analyzing people's thoughts) on a specific issue or field of interest.\n",
    "\n",
    "- There are several ways you can scrape (or gather) data from Twitter. And in this project, we will look at using Tweepy to scrape Twitter.\n",
    "\n",
    "- We will scrape public conversations from people on a specific trending topic, as well as tweets from a particular user.\n",
    "\n",
    "Now without further ado, let's get started.\n",
    "\n",
    "Tweepy:\n",
    "Introduction to Our Scraping Tool\n",
    "Tweepy is a Python library for integrating with the Twitter API. Because Tweepy is connected with the Twitter API, you can perform complex queries in addition to scraping tweets. It enables you to take advantage of all of the Twitter API's capabilities.\n",
    "\n",
    "But there are some drawbacks - like the fact that its standard API only allows you to collect tweets for up to a week (that is, Tweepy does not allow recovery of tweets beyond a week window, so historical data retrieval is not permitted).\n",
    "\n",
    "Also, there are limits to how many tweets you can retrieve from a user's account. \n",
    "\"\"\"\n"
   ]
  },
  {
   "cell_type": "markdown",
   "metadata": {},
   "source": [
    "# How to Use Tweepy to Scrape Tweets:\n",
    "- Before we begin using Tweepy, we must first make sure that our Twitter credentials are ready. With that, we can connect Tweepy to our API key and begin scraping.\n",
    "\n",
    "- If you do not have Twitter credentials, you can register for a Twitter developer account. You will be asked some basic questions about how you intend to use the Twitter API. After that, you can begin the implementation.\n",
    "\n",
    "- The first step is to install the Tweepy library on your local machine, which you can do by typing:pip install git+https://github.com/tweepy/tweepy.git"
   ]
  },
  {
   "cell_type": "markdown",
   "metadata": {},
   "source": [
    "# How to Scrape Tweets from a User on Twitter\n",
    "- Now that we’ve installed the Tweepy library, let’s scrape 100 tweets from a user called  \"@PythonJobsFeed\" on Twitter. We'll look at the full code implementation that will let us do this:"
   ]
  },
  {
   "cell_type": "code",
   "execution_count": 11,
   "metadata": {},
   "outputs": [
    {
     "name": "stdout",
     "output_type": "stream",
     "text": [
      "Status Failed On, 403 Forbidden\n",
      "453 - You currently have access to a subset of Twitter API v2 endpoints and limited v1.1 endpoints (e.g. media post, oauth) only. If you need access to this endpoint, you may need a different access level. You can learn more here: https://developer.twitter.com/en/portal/product\n"
     ]
    },
    {
     "data": {
      "text/plain": [
       "'\\nIn the above code, we created the name of the user (the @name in Twitter) we want to retrieved the tweets from and also the number of tweets. We then created an exception handler to help us catch errors in a more effective way.\\n\\nAfter that, the api.user_timeline() returns a collection of the most recent tweets posted by the user we picked in the screen_name parameter and the number of tweets you want to retrieve.\\n\\nIn the next line of code, we passed in some attributes we want to retrieve from each tweet and saved them into a list. To see more attributes you can retrieve from a tweet, read this.\\n\\nIn the last chunk of code we created a dataframe and passed in the list we created along with the names of the column we created.\\n\\nNote that the column names must be in the sequence of how you passed them into the attributes container (that is, how you passed those attributes in a list when you were retrieving the attributes from the tweet).\\n\\nIf you correctly followed the steps I described, you should have something like this:\\n'"
      ]
     },
     "execution_count": 11,
     "metadata": {},
     "output_type": "execute_result"
    }
   ],
   "source": [
    "import tweepy\n",
    "import time\n",
    "import pandas as pd\n",
    "\n",
    "consumer_key = \"xxxxxx\" #Your API/Consumer key \n",
    "consumer_secret = \"xxxxxxxxx\" #Your API/Consumer Secret Key\n",
    "access_token = \"xxxxxxx\"    #Your Access token key\n",
    "access_token_secret = \"xxxxxxx\" #Your Access token Secret key\n",
    "\n",
    "#Pass in our twitter API authentication key\n",
    "auth = tweepy.OAuth1UserHandler(\n",
    "    consumer_key, consumer_secret,\n",
    "    access_token, access_token_secret\n",
    ")\n",
    "\n",
    "#Instantiate the tweepy API\n",
    "api = tweepy.API(auth, wait_on_rate_limit=True)\n",
    "\n",
    "\"\"\"\n",
    "- In the above code, we've imported the Tweepy library into our code, then we've created some variables where we store our Twitter credentials (The Tweepy authentication handler requires four of our Twitter credentials). \n",
    "\n",
    "- So we then pass in those variable into the Tweepy authentication handler and save them into another variable.\n",
    "\n",
    "- Then the last statement of call is where we instantiated the Tweepy API and passed in the require parameters.\n",
    "\"\"\"\n",
    "\n",
    "\n",
    "username = \"PythonJobsFeed\"\n",
    "no_of_tweets =100\n",
    "\n",
    "\n",
    "try:\n",
    "    #The number of tweets we want to retrieved from the user\n",
    "    tweets = api.user_timeline(screen_name=username, count=no_of_tweets)\n",
    "    \n",
    "    #Pulling Some attributes from the tweet\n",
    "    attributes_container = [[tweet.created_at, tweet.favorite_count,tweet.source,  tweet.text] for tweet in tweets]\n",
    "\n",
    "    #Creation of column list to rename the columns in the dataframe\n",
    "    columns = [\"Date Created\", \"Number of Likes\", \"Source of Tweet\", \"Tweet\"]\n",
    "    \n",
    "    #Creation of Dataframe\n",
    "    tweets_df = pd.DataFrame(attributes_container, columns=columns)\n",
    "except BaseException as e:\n",
    "    print('Status Failed On,',str(e))\n",
    "    time.sleep(3)\n",
    "\"\"\"\n",
    "In the above code, we created the name of the user (the @name in Twitter) we want to retrieved the tweets from and also the number of tweets. We then created an exception handler to help us catch errors in a more effective way.\n",
    "\n",
    "After that, the api.user_timeline() returns a collection of the most recent tweets posted by the user we picked in the screen_name parameter and the number of tweets you want to retrieve.\n",
    "\n",
    "In the next line of code, we passed in some attributes we want to retrieve from each tweet and saved them into a list. To see more attributes you can retrieve from a tweet, read this.\n",
    "\n",
    "In the last chunk of code we created a dataframe and passed in the list we created along with the names of the column we created.\n",
    "\n",
    "Note that the column names must be in the sequence of how you passed them into the attributes container (that is, how you passed those attributes in a list when you were retrieving the attributes from the tweet).\n",
    "\n",
    "If you correctly followed the steps I described, you should have something like this:\n",
    "\"\"\"\n"
   ]
  },
  {
   "cell_type": "code",
   "execution_count": 12,
   "metadata": {},
   "outputs": [
    {
     "ename": "NameError",
     "evalue": "name 'tweets_df' is not defined",
     "output_type": "error",
     "traceback": [
      "\u001b[1;31m---------------------------------------------------------------------------\u001b[0m",
      "\u001b[1;31mNameError\u001b[0m                                 Traceback (most recent call last)",
      "Cell \u001b[1;32mIn[12], line 1\u001b[0m\n\u001b[1;32m----> 1\u001b[0m \u001b[38;5;28mprint\u001b[39m(\u001b[43mtweets_df\u001b[49m\u001b[38;5;241m.\u001b[39mhead(\u001b[38;5;241m20\u001b[39m))\n",
      "\u001b[1;31mNameError\u001b[0m: name 'tweets_df' is not defined"
     ]
    }
   ],
   "source": [
    "print(tweets_df.head(20))\n"
   ]
  }
 ],
 "metadata": {
  "kernelspec": {
   "display_name": ".venv",
   "language": "python",
   "name": "python3"
  },
  "language_info": {
   "codemirror_mode": {
    "name": "ipython",
    "version": 3
   },
   "file_extension": ".py",
   "mimetype": "text/x-python",
   "name": "python",
   "nbconvert_exporter": "python",
   "pygments_lexer": "ipython3",
   "version": "3.12.4"
  }
 },
 "nbformat": 4,
 "nbformat_minor": 2
}
